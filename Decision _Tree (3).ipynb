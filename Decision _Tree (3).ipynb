{
 "cells": [
  {
   "cell_type": "code",
   "execution_count": 1,
   "id": "47dcce8d-49bd-4f8b-b734-6c53ea6e7b5e",
   "metadata": {},
   "outputs": [
    {
     "data": {
      "text/plain": [
       "0.5"
      ]
     },
     "execution_count": 1,
     "metadata": {},
     "output_type": "execute_result"
    }
   ],
   "source": [
    "from collections import Counter\n",
    "def gini_impurity(y):\n",
    "    counts=Counter(y)\n",
    "    impurity=1-sum([(count/len(y))**2 for count in counts.values()])\n",
    "    return impurity\n",
    "gini_impurity(['M','M','M','F','F','F'])"
   ]
  },
  {
   "cell_type": "code",
   "execution_count": 2,
   "id": "d26b84ba-757b-4b9f-8f10-0a72f5357c60",
   "metadata": {},
   "outputs": [
    {
     "data": {
      "text/plain": [
       "0.4444444444444444"
      ]
     },
     "execution_count": 2,
     "metadata": {},
     "output_type": "execute_result"
    }
   ],
   "source": [
    "gini_impurity(['M','M','M','M','F','F'])"
   ]
  },
  {
   "cell_type": "code",
   "execution_count": 3,
   "id": "f117b64d-04b6-4c2a-97aa-f99607874112",
   "metadata": {},
   "outputs": [
    {
     "data": {
      "text/plain": [
       "1.0"
      ]
     },
     "execution_count": 3,
     "metadata": {},
     "output_type": "execute_result"
    }
   ],
   "source": [
    "import math\n",
    "def entropy(y):\n",
    "    counts=Counter(y)\n",
    "    impurity=-sum([(count/len(y))*math.log2(count/len(y)) for count in counts.values()])\n",
    "    return impurity\n",
    "entropy(['M','M','M','F','F','F'])   "
   ]
  },
  {
   "cell_type": "code",
   "execution_count": null,
   "id": "38bb55e6-2ff0-45d3-9328-62ddc8772f39",
   "metadata": {},
   "outputs": [],
   "source": []
  }
 ],
 "metadata": {
  "kernelspec": {
   "display_name": "Python 3 (ipykernel)",
   "language": "python",
   "name": "python3"
  },
  "language_info": {
   "codemirror_mode": {
    "name": "ipython",
    "version": 3
   },
   "file_extension": ".py",
   "mimetype": "text/x-python",
   "name": "python",
   "nbconvert_exporter": "python",
   "pygments_lexer": "ipython3",
   "version": "3.11.8"
  }
 },
 "nbformat": 4,
 "nbformat_minor": 5
}
